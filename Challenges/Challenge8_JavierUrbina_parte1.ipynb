{
  "nbformat": 4,
  "nbformat_minor": 0,
  "metadata": {
    "colab": {
      "provenance": []
    },
    "kernelspec": {
      "name": "python3",
      "display_name": "Python 3"
    },
    "language_info": {
      "name": "python"
    }
  },
  "cells": [
    {
      "cell_type": "markdown",
      "source": [
        "Base de datos: OASIS"
      ],
      "metadata": {
        "id": "pu7V9xQRNWvq"
      }
    },
    {
      "cell_type": "code",
      "execution_count": 22,
      "metadata": {
        "id": "nQQ1WjmpLn5b"
      },
      "outputs": [],
      "source": [
        "import os\n",
        "import numpy as np\n",
        "import tensorflow as tf\n",
        "from sklearn.model_selection import train_test_split\n",
        "import matplotlib.pyplot as plt\n",
        "import nibabel as nib\n",
        "import scipy.ndimage as ndi\n",
        "import scipy.ndimage as ndi\n",
        "import pandas as pd\n",
        "import seaborn as sns\n",
        "from tensorflow.keras.models import Sequential\n",
        "from tensorflow.keras.layers import Conv2D, MaxPooling2D, Flatten, Dense, Dropout\n",
        "from sklearn.model_selection import train_test_split"
      ]
    },
    {
      "cell_type": "code",
      "source": [
        "from google.colab import drive\n",
        "drive.mount('/content/drive')"
      ],
      "metadata": {
        "colab": {
          "base_uri": "https://localhost:8080/"
        },
        "id": "NgTlip41Ng0Y",
        "outputId": "33f353a1-3022-493a-c2ed-b251608986a3"
      },
      "execution_count": 3,
      "outputs": [
        {
          "output_type": "stream",
          "name": "stdout",
          "text": [
            "Mounted at /content/drive\n"
          ]
        }
      ]
    },
    {
      "cell_type": "markdown",
      "source": [
        "Voy a tomar valores de imágenes que si tengan el label de CDR, para ello accedo al csv que proporciona la base de datos y selecciono 200"
      ],
      "metadata": {
        "id": "31VzXddJfqBX"
      }
    },
    {
      "cell_type": "code",
      "source": [
        "csv_file = '/content/drive/MyDrive/Proyecto_Patrones/oasis1_cross_sectional.csv'\n",
        "df = pd.read_csv(csv_file)\n",
        "filtered_df = df[df['CDR'].notna()]\n",
        "selected_rows = filtered_df.head(100)\n",
        "labels = selected_rows['CDR'].tolist()\n",
        "id_values = selected_rows['ID'].tolist()\n",
        "print(len(labels))"
      ],
      "metadata": {
        "colab": {
          "base_uri": "https://localhost:8080/"
        },
        "id": "hyuTtZYpfEhK",
        "outputId": "1ed2bdd8-aef8-4c8f-e77a-8089216e1eef"
      },
      "execution_count": 52,
      "outputs": [
        {
          "output_type": "stream",
          "name": "stdout",
          "text": [
            "100\n"
          ]
        }
      ]
    },
    {
      "cell_type": "markdown",
      "source": [
        "Ahora voy a delimitar mi lista de folders a esos folders que si tienen un valor no nulo de CDR"
      ],
      "metadata": {
        "id": "q0ST0cRpf0Vz"
      }
    },
    {
      "cell_type": "code",
      "source": [
        "base_folder_path = '/content/drive/MyDrive/Proyecto_Patrones/data/'\n",
        "folders = []\n",
        "for id_value in id_values:\n",
        "    folder_path = os.path.join(base_folder_path, id_value)\n",
        "    folders.append(folder_path)\n",
        "print(f\"Número de imágenes de {base_folder_path}: {len(folders)}\")"
      ],
      "metadata": {
        "colab": {
          "base_uri": "https://localhost:8080/"
        },
        "id": "y4g7wHUHg3K-",
        "outputId": "4d5e4d77-046e-40b5-f5c3-1691eea61ccc"
      },
      "execution_count": 53,
      "outputs": [
        {
          "output_type": "stream",
          "name": "stdout",
          "text": [
            "Número de imágenes de /content/drive/MyDrive/Proyecto_Patrones/data/: 100\n"
          ]
        }
      ]
    },
    {
      "cell_type": "code",
      "source": [
        "\n",
        "images = []\n",
        "\n",
        "for folder in folders:\n",
        "    folder_path = os.path.join(base_folder_path, folder)\n",
        "    fsl_seg_path = os.path.join(folder_path, 'FSL_SEG')\n",
        "    files_in_fsl_seg = os.listdir(fsl_seg_path)\n",
        "\n",
        "    hdr_files = [file for file in files_in_fsl_seg if file.endswith('.hdr')]\n",
        "\n",
        "    for hdr_file in hdr_files:\n",
        "        hdr_file_path = os.path.join(fsl_seg_path, hdr_file)\n",
        "        brain_vol = nib.load(hdr_file_path)\n",
        "        brain_vol_data = brain_vol.get_fdata()\n",
        "        mean_image = np.mean(brain_vol_data[:, :, 70:100], axis=2) #promediamos estos slices del volumen porque son los que tienen más información\n",
        "        resized_mean_image = tf.image.resize(mean_image, [128, 128])\n",
        "        images.append(resized_mean_image)\n",
        "\n",
        "print(len(images)) #verificamos que es la cantidad de imágenes que queremos\n",
        "print(len(labels))"
      ],
      "metadata": {
        "colab": {
          "base_uri": "https://localhost:8080/"
        },
        "id": "_gT0tyjkOOh8",
        "outputId": "2615d4c5-28e7-41c1-d9f1-84675f482f64"
      },
      "execution_count": 54,
      "outputs": [
        {
          "output_type": "stream",
          "name": "stdout",
          "text": [
            "100\n",
            "100\n"
          ]
        }
      ]
    },
    {
      "cell_type": "code",
      "source": [
        "mean_image = np.mean(brain_vol_data[:, :, 70:100], axis=2)\n",
        "print(mean_image.shape) #revisamos el tamaño de las imágenes para ver si es que la estandarizacion previa de 128x128 nos quita mucha info"
      ],
      "metadata": {
        "colab": {
          "base_uri": "https://localhost:8080/"
        },
        "id": "32Bka02NW3d2",
        "outputId": "207a517a-e20a-4b75-c44c-687884fea1bc"
      },
      "execution_count": 11,
      "outputs": [
        {
          "output_type": "stream",
          "name": "stdout",
          "text": [
            "(176, 208, 1)\n"
          ]
        }
      ]
    },
    {
      "cell_type": "code",
      "source": [
        "images = np.array(images)\n",
        "labels = np.array(labels)\n",
        "print(labels)\n",
        "labels = labels.astype(float)\n",
        "print(labels)"
      ],
      "metadata": {
        "colab": {
          "base_uri": "https://localhost:8080/"
        },
        "id": "cNOzwJvxXwDQ",
        "outputId": "ebb59c74-80be-47be-c700-ddcebd64383b"
      },
      "execution_count": 55,
      "outputs": [
        {
          "output_type": "stream",
          "name": "stdout",
          "text": [
            "[0.  0.  0.5 0.  0.  0.  0.5 0.5 0.  0.  0.  0.5 0.5 0.5 0.  1.  0.  1.\n",
            " 0.  0.  0.  1.  0.5 0.5 0.5 0.  0.5 1.  1.  1.  0.  0.5 0.  0.  0.  0.5\n",
            " 1.  0.  0.  0.  0.  0.  1.  0.  0.  0.  0.5 0.  0.5 0.  0.  0.5 0.  0.5\n",
            " 0.  0.  0.  0.  0.  0.  0.5 0.  0.5 1.  0.5 0.5 0.  0.  1.  0.  1.  0.\n",
            " 0.  0.5 0.5 0.  0.5 0.  0.5 0.5 0.5 0.  0.5 0.  0.  0.  0.  0.5 0.  0.\n",
            " 1.  1.  0.  0.  0.  0.  0.  0.  0.  0. ]\n",
            "[0.  0.  0.5 0.  0.  0.  0.5 0.5 0.  0.  0.  0.5 0.5 0.5 0.  1.  0.  1.\n",
            " 0.  0.  0.  1.  0.5 0.5 0.5 0.  0.5 1.  1.  1.  0.  0.5 0.  0.  0.  0.5\n",
            " 1.  0.  0.  0.  0.  0.  1.  0.  0.  0.  0.5 0.  0.5 0.  0.  0.5 0.  0.5\n",
            " 0.  0.  0.  0.  0.  0.  0.5 0.  0.5 1.  0.5 0.5 0.  0.  1.  0.  1.  0.\n",
            " 0.  0.5 0.5 0.  0.5 0.  0.5 0.5 0.5 0.  0.5 0.  0.  0.  0.  0.5 0.  0.\n",
            " 1.  1.  0.  0.  0.  0.  0.  0.  0.  0. ]\n"
          ]
        }
      ]
    },
    {
      "cell_type": "code",
      "source": [
        "images = images / 255.0\n",
        "\n",
        "X_train, X_val, y_train, y_val = train_test_split(images, labels, test_size=0.2, random_state=42)\n",
        "\n",
        "model = Sequential([\n",
        "    Conv2D(32, (3, 3), activation='relu', input_shape=(128, 128, 1)),\n",
        "    MaxPooling2D((2, 2)),\n",
        "    Conv2D(64, (3, 3), activation='relu'),\n",
        "    MaxPooling2D((2, 2)),\n",
        "    Conv2D(128, (3, 3), activation='relu'),\n",
        "    MaxPooling2D((2, 2)),\n",
        "    Flatten(),\n",
        "    Dense(128, activation='relu'),\n",
        "    Dropout(0.5),\n",
        "    #Dense(1, activation='sigmoid')  # Use 'softmax' if you have more than 2 classes\n",
        "    Dense(3, activation='softmax')\n",
        "])"
      ],
      "metadata": {
        "id": "7lpWGCnJdAxA"
      },
      "execution_count": 56,
      "outputs": []
    },
    {
      "cell_type": "code",
      "source": [
        "model.compile(optimizer='adam',\n",
        "              loss='sparse_categorical_crossentropy',\n",
        "              metrics=['accuracy'])"
      ],
      "metadata": {
        "id": "MmG8DFyHb0sT"
      },
      "execution_count": 57,
      "outputs": []
    },
    {
      "cell_type": "code",
      "source": [
        "history = model.fit(X_train, y_train, epochs=20, validation_data=(X_val, y_val))"
      ],
      "metadata": {
        "colab": {
          "base_uri": "https://localhost:8080/"
        },
        "id": "Ak8bqICvb16M",
        "outputId": "8a385ac0-75e3-4555-ed69-56651ff1b636"
      },
      "execution_count": 58,
      "outputs": [
        {
          "output_type": "stream",
          "name": "stdout",
          "text": [
            "Epoch 1/20\n",
            "3/3 [==============================] - 6s 1s/step - loss: 1.0570 - accuracy: 0.5375 - val_loss: 0.6353 - val_accuracy: 0.5500\n",
            "Epoch 2/20\n",
            "3/3 [==============================] - 2s 706ms/step - loss: 0.5020 - accuracy: 0.6000 - val_loss: 0.5676 - val_accuracy: 0.5500\n",
            "Epoch 3/20\n",
            "3/3 [==============================] - 2s 679ms/step - loss: 0.6123 - accuracy: 0.6000 - val_loss: 0.3413 - val_accuracy: 0.5500\n",
            "Epoch 4/20\n",
            "3/3 [==============================] - 2s 681ms/step - loss: 0.4799 - accuracy: 0.6000 - val_loss: 0.4214 - val_accuracy: 0.5500\n",
            "Epoch 5/20\n",
            "3/3 [==============================] - 2s 695ms/step - loss: 0.5319 - accuracy: 0.5875 - val_loss: 0.4449 - val_accuracy: 0.5500\n",
            "Epoch 6/20\n",
            "3/3 [==============================] - 3s 1s/step - loss: 0.4857 - accuracy: 0.6000 - val_loss: 0.3384 - val_accuracy: 0.5500\n",
            "Epoch 7/20\n",
            "3/3 [==============================] - 4s 1s/step - loss: 0.4825 - accuracy: 0.6000 - val_loss: 0.3278 - val_accuracy: 0.5500\n",
            "Epoch 8/20\n",
            "3/3 [==============================] - 2s 759ms/step - loss: 0.4540 - accuracy: 0.6000 - val_loss: 0.3279 - val_accuracy: 0.5500\n",
            "Epoch 9/20\n",
            "3/3 [==============================] - 2s 669ms/step - loss: 0.4240 - accuracy: 0.6000 - val_loss: 0.3440 - val_accuracy: 0.5500\n",
            "Epoch 10/20\n",
            "3/3 [==============================] - 2s 669ms/step - loss: 0.4355 - accuracy: 0.6000 - val_loss: 0.3723 - val_accuracy: 0.5500\n",
            "Epoch 11/20\n",
            "3/3 [==============================] - 2s 645ms/step - loss: 0.4620 - accuracy: 0.6000 - val_loss: 0.3480 - val_accuracy: 0.5500\n",
            "Epoch 12/20\n",
            "3/3 [==============================] - 3s 945ms/step - loss: 0.4324 - accuracy: 0.6000 - val_loss: 0.3299 - val_accuracy: 0.5500\n",
            "Epoch 13/20\n",
            "3/3 [==============================] - 3s 1s/step - loss: 0.4476 - accuracy: 0.6000 - val_loss: 0.3265 - val_accuracy: 0.5500\n",
            "Epoch 14/20\n",
            "3/3 [==============================] - 3s 692ms/step - loss: 0.4067 - accuracy: 0.6000 - val_loss: 0.3267 - val_accuracy: 0.5500\n",
            "Epoch 15/20\n",
            "3/3 [==============================] - 2s 691ms/step - loss: 0.4356 - accuracy: 0.6000 - val_loss: 0.3309 - val_accuracy: 0.5500\n",
            "Epoch 16/20\n",
            "3/3 [==============================] - 2s 717ms/step - loss: 0.4265 - accuracy: 0.6000 - val_loss: 0.3407 - val_accuracy: 0.5500\n",
            "Epoch 17/20\n",
            "3/3 [==============================] - 2s 666ms/step - loss: 0.4246 - accuracy: 0.6000 - val_loss: 0.3553 - val_accuracy: 0.5500\n",
            "Epoch 18/20\n",
            "3/3 [==============================] - 2s 836ms/step - loss: 0.4238 - accuracy: 0.6000 - val_loss: 0.3418 - val_accuracy: 0.5500\n",
            "Epoch 19/20\n",
            "3/3 [==============================] - 4s 1s/step - loss: 0.3981 - accuracy: 0.6000 - val_loss: 0.3280 - val_accuracy: 0.5500\n",
            "Epoch 20/20\n",
            "3/3 [==============================] - 2s 769ms/step - loss: 0.4208 - accuracy: 0.6000 - val_loss: 0.3258 - val_accuracy: 0.5500\n"
          ]
        }
      ]
    },
    {
      "cell_type": "code",
      "source": [
        "test_loss, test_acc = model.evaluate(X_val, y_val)\n",
        "print('\\nTest accuracy:', test_acc)\n",
        "print('\\nTest loss:', test_loss)\n",
        "\n",
        "history_dict = history.history\n",
        "loss_values = history_dict['loss']\n",
        "val_loss_values = history_dict['val_loss']\n",
        "\n",
        "fig = plt.figure(figsize=(10,10))\n",
        "epoch = range(1,len(loss_values)+1)\n",
        "plt.plot(epoch,loss_values, 'o',label='training')\n",
        "plt.plot(epoch,val_loss_values, '--',label='val')\n",
        "plt.legend()\n",
        "plt.show()"
      ],
      "metadata": {
        "colab": {
          "base_uri": "https://localhost:8080/",
          "height": 917
        },
        "id": "psN4b5g7jtMK",
        "outputId": "f30b0f2e-79e2-4c21-f2a6-9959e310bfdc"
      },
      "execution_count": 59,
      "outputs": [
        {
          "output_type": "stream",
          "name": "stdout",
          "text": [
            "1/1 [==============================] - 1s 638ms/step - loss: 0.3258 - accuracy: 0.5500\n",
            "\n",
            "Test accuracy: 0.550000011920929\n",
            "\n",
            "Test loss: 0.3257938623428345\n"
          ]
        },
        {
          "output_type": "display_data",
          "data": {
            "text/plain": [
              "<Figure size 1000x1000 with 1 Axes>"
            ],
            "image/png": "[encoded data removed]"
          },
          "metadata": {}
        }
      ]
    },
    {
      "cell_type": "markdown",
      "source": [
        "Añadiendo regularizador"
      ],
      "metadata": {
        "id": "P_zNIs9dj0CN"
      }
    },
    {
      "cell_type": "code",
      "source": [
        "from keras import regularizers\n",
        "\n",
        "model_reg = Sequential([\n",
        "    Conv2D(32, (3, 3), activation='relu', input_shape=(128, 128, 1)),\n",
        "    MaxPooling2D((2, 2)),\n",
        "    Conv2D(64, (3, 3), activation='relu'),\n",
        "    MaxPooling2D((2, 2)),\n",
        "    Conv2D(128, (3, 3), activation='relu'),\n",
        "    MaxPooling2D((2, 2)),\n",
        "    Flatten(),\n",
        "    Dense(128, activation='relu', kernel_regularizer=regularizers.l2(0.01)),\n",
        "    Dropout(0.5),\n",
        "    Dense(3, activation='softmax')\n",
        "])\n",
        "model_reg.compile(optimizer='adam',\n",
        "              loss='sparse_categorical_crossentropy',\n",
        "              metrics=['accuracy'])"
      ],
      "metadata": {
        "id": "LfSfzM9Xj3TQ"
      },
      "execution_count": 60,
      "outputs": []
    },
    {
      "cell_type": "code",
      "source": [
        "history = model_reg.fit(X_train, y_train, epochs=20, validation_data=(X_val, y_val))"
      ],
      "metadata": {
        "colab": {
          "base_uri": "https://localhost:8080/"
        },
        "id": "7U57hRchkGh7",
        "outputId": "e1a44a19-a86e-4e8d-d806-a9afb7cdc85e"
      },
      "execution_count": 62,
      "outputs": [
        {
          "output_type": "stream",
          "name": "stdout",
          "text": [
            "Epoch 1/20\n",
            "3/3 [==============================] - 8s 3s/step - loss: 3.2649 - accuracy: 0.5875 - val_loss: 2.1680 - val_accuracy: 0.5500\n",
            "Epoch 2/20\n",
            "3/3 [==============================] - 2s 741ms/step - loss: 1.8413 - accuracy: 0.6000 - val_loss: 1.0813 - val_accuracy: 0.5500\n",
            "Epoch 3/20\n",
            "3/3 [==============================] - 2s 720ms/step - loss: 1.1557 - accuracy: 0.6000 - val_loss: 0.7000 - val_accuracy: 0.5500\n",
            "Epoch 4/20\n",
            "3/3 [==============================] - 2s 745ms/step - loss: 0.7777 - accuracy: 0.6000 - val_loss: 0.5561 - val_accuracy: 0.5500\n",
            "Epoch 5/20\n",
            "3/3 [==============================] - 2s 768ms/step - loss: 0.6517 - accuracy: 0.5875 - val_loss: 0.4944 - val_accuracy: 0.5500\n",
            "Epoch 6/20\n",
            "3/3 [==============================] - 4s 1s/step - loss: 0.6029 - accuracy: 0.6000 - val_loss: 0.4865 - val_accuracy: 0.5500\n",
            "Epoch 7/20\n",
            "3/3 [==============================] - 3s 994ms/step - loss: 0.5599 - accuracy: 0.6000 - val_loss: 0.4922 - val_accuracy: 0.5500\n",
            "Epoch 8/20\n",
            "3/3 [==============================] - 3s 832ms/step - loss: 0.5936 - accuracy: 0.6000 - val_loss: 0.4800 - val_accuracy: 0.5500\n",
            "Epoch 9/20\n",
            "3/3 [==============================] - 2s 770ms/step - loss: 0.5748 - accuracy: 0.6000 - val_loss: 0.4557 - val_accuracy: 0.5500\n",
            "Epoch 10/20\n",
            "3/3 [==============================] - 2s 838ms/step - loss: 0.5612 - accuracy: 0.6000 - val_loss: 0.4300 - val_accuracy: 0.5500\n",
            "Epoch 11/20\n",
            "3/3 [==============================] - 3s 1s/step - loss: 0.5529 - accuracy: 0.6000 - val_loss: 0.4119 - val_accuracy: 0.5500\n",
            "Epoch 12/20\n",
            "3/3 [==============================] - 4s 1s/step - loss: 0.5066 - accuracy: 0.6000 - val_loss: 0.4106 - val_accuracy: 0.5500\n",
            "Epoch 13/20\n",
            "3/3 [==============================] - 3s 769ms/step - loss: 0.5019 - accuracy: 0.6000 - val_loss: 0.3818 - val_accuracy: 0.5500\n",
            "Epoch 14/20\n",
            "3/3 [==============================] - 2s 660ms/step - loss: 0.4919 - accuracy: 0.6000 - val_loss: 0.3766 - val_accuracy: 0.5500\n",
            "Epoch 15/20\n",
            "3/3 [==============================] - 2s 787ms/step - loss: 0.4140 - accuracy: 0.6000 - val_loss: 0.3816 - val_accuracy: 0.5500\n",
            "Epoch 16/20\n",
            "3/3 [==============================] - 2s 804ms/step - loss: 0.5313 - accuracy: 0.5750 - val_loss: 0.3819 - val_accuracy: 0.5500\n",
            "Epoch 17/20\n",
            "3/3 [==============================] - 3s 1s/step - loss: 0.5120 - accuracy: 0.6000 - val_loss: 0.3785 - val_accuracy: 0.5500\n",
            "Epoch 18/20\n",
            "3/3 [==============================] - 4s 1s/step - loss: 0.4885 - accuracy: 0.6000 - val_loss: 0.3892 - val_accuracy: 0.5500\n",
            "Epoch 19/20\n",
            "3/3 [==============================] - 2s 685ms/step - loss: 0.4820 - accuracy: 0.6000 - val_loss: 0.3809 - val_accuracy: 0.5500\n",
            "Epoch 20/20\n",
            "3/3 [==============================] - 2s 738ms/step - loss: 0.4510 - accuracy: 0.6000 - val_loss: 0.3764 - val_accuracy: 0.5500\n"
          ]
        }
      ]
    },
    {
      "cell_type": "code",
      "source": [
        "test_loss, test_acc = model_reg.evaluate(X_val, y_val)\n",
        "print('\\nTest accuracy:', test_acc)\n",
        "print('\\nTest loss:', test_loss)\n",
        "\n",
        "history_dict = history.history\n",
        "loss_values = history_dict['loss']\n",
        "val_loss_values = history_dict['val_loss']\n",
        "\n",
        "fig = plt.figure(figsize=(10,10))\n",
        "epoch = range(1,len(loss_values)+1)\n",
        "plt.plot(epoch,loss_values, 'o',label='training')\n",
        "plt.plot(epoch,val_loss_values, '--',label='val')\n",
        "plt.legend()\n",
        "plt.show()"
      ],
      "metadata": {
        "colab": {
          "base_uri": "https://localhost:8080/",
          "height": 917
        },
        "id": "TLcHuSUyki1_",
        "outputId": "936c1949-2291-402c-a229-ef23dc6eda5a"
      },
      "execution_count": 63,
      "outputs": [
        {
          "output_type": "stream",
          "name": "stdout",
          "text": [
            "1/1 [==============================] - 0s 170ms/step - loss: 0.3764 - accuracy: 0.5500\n",
            "\n",
            "Test accuracy: 0.550000011920929\n",
            "\n",
            "Test loss: 0.3764290511608124\n"
          ]
        },
        {
          "output_type": "display_data",
          "data": {
            "text/plain": [
              "<Figure size 1000x1000 with 1 Axes>"
            ],
            "image/png": "[encoded data removed]"
          },
          "metadata": {}
        }
      ]
    }
  ]
}